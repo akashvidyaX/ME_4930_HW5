{
  "nbformat": 4,
  "nbformat_minor": 0,
  "metadata": {
    "colab": {
      "provenance": []
    },
    "kernelspec": {
      "name": "python3",
      "display_name": "Python 3"
    },
    "language_info": {
      "name": "python"
    }
  },
  "cells": [
    {
      "cell_type": "code",
      "execution_count": null,
      "metadata": {
        "colab": {
          "base_uri": "https://localhost:8080/"
        },
        "id": "o1qZgqgi9vce",
        "outputId": "4be88e5f-9a9b-4b25-d727-fd011505de65"
      },
      "outputs": [
        {
          "output_type": "execute_result",
          "data": {
            "text/plain": [
              "array([[  -1. ,    0. ,    0. ,    0. ],\n",
              "       [   0. ,   -1. ,    0. ,    1. ],\n",
              "       [   0. ,    0. ,    1. , 1176.5],\n",
              "       [   0. ,    0. ,    0. ,    1. ]])"
            ]
          },
          "metadata": {},
          "execution_count": 1
        }
      ],
      "source": [
        "import numpy as np\n",
        "\n",
        "np.set_printoptions(suppress=True)\n",
        "\n",
        "# Define 7 predefined 4x4 matrices\n",
        "matrix_1 = np.array([[1, 0, 0, 0],\n",
        "                     [0, -1, 0, 0],\n",
        "                     [0, 0, -1, 156.4],\n",
        "                     [0, 0, 0, 1]])\n",
        "\n",
        "matrix_2 = np.array([[1, 0, 0, 0],\n",
        "                     [0, 0, -1, 5.4],\n",
        "                     [0, 1, 0, -128.4],\n",
        "                     [0, 0, 0, 1]])\n",
        "\n",
        "matrix_3 = np.array([[1, 0, 0, 0],\n",
        "                     [0, -1, 0, -410],\n",
        "                     [0, 0, -1, 0],\n",
        "                     [0, 0, 0, 1]])\n",
        "\n",
        "matrix_4 = np.array([[1, 0, 0, 0],\n",
        "                     [0, 0, -1, 208.4],\n",
        "                     [0, 1, 0, -6.4],\n",
        "                     [0, 0, 0, 1]])\n",
        "\n",
        "matrix_5 = np.array([[1, 0, 0, 0],\n",
        "                     [0, 0, 1, 0],\n",
        "                     [0, -1, 0, -105.9],\n",
        "                     [0, 0, 0, 1]])\n",
        "\n",
        "matrix_6 = np.array([[1, 0, 0, 0],\n",
        "                     [0, 0, -1, 105.9],\n",
        "                     [0, 1, 0, 0],\n",
        "                     [0, 0, 0, 1]])\n",
        "\n",
        "matrix_7 = np.array([[-1, 0, 0, 0],\n",
        "                     [0, 1, 0, 0],\n",
        "                     [0, 0, -1, -61.5],\n",
        "                     [0, 0, 0, 1]])\n",
        "\n",
        "# Manual multiplication of the matrices in one line\n",
        "\n",
        "result = np.dot(np.dot(np.dot(np.dot(np.dot(np.dot(np.dot(np.eye(4), matrix_1), matrix_2), matrix_3), matrix_4), matrix_5), matrix_6), matrix_7)\n",
        "result\n"
      ]
    },
    {
      "cell_type": "code",
      "source": [
        "import numpy as np\n",
        "\n",
        "np.set_printoptions(suppress=True)\n",
        "\n",
        "# Definitions of the functions poe and fk_poe\n",
        "\n",
        "def poe(q, a, rot, joint_type):\n",
        "    T = np.eye(4)\n",
        "    for i in range(len(q)):\n",
        "        j = len(q) - i - 1\n",
        "        if joint_type[j] == \"R\":\n",
        "            rot_i = np.array([[         0, -rot[j][2],  rot[j][1]],\n",
        "                              [ rot[j][2],          0, -rot[j][0]],\n",
        "                              [-rot[j][1],  rot[j][0],          0]])\n",
        "            rot_mat_i = np.eye(3) + np.sin(q[j]) * rot_i + (1 - np.cos(q[j])) * (rot_i @ rot_i)\n",
        "        elif joint_type[j] == \"P\":\n",
        "            rot_i = np.zeros(3)\n",
        "            rot_mat_i = np.eye(3)\n",
        "\n",
        "        if joint_type[j] == \"R\" and j > 0:\n",
        "            Sv = -np.cross(rot[j], a[j])\n",
        "        elif joint_type[j] == \"R\" and j == 0:\n",
        "            Sv = np.array([0, 0, 0])\n",
        "        elif joint_type[j] == \"P\":\n",
        "            Sv = a[j]\n",
        "\n",
        "        lin_vec_i = ((np.eye(3) * q[j]) + ((1 - np.cos(q[j])) * rot_i) + ((q[j] - np.sin(q[j])) * (rot_i @ rot_i))) @ Sv\n",
        "        trans_mat_i = np.column_stack([rot_mat_i, lin_vec_i.T])\n",
        "        trans_mat_i = np.vstack((trans_mat_i, np.array([0, 0, 0, 1])))\n",
        "\n",
        "        T = trans_mat_i @ T\n",
        "\n",
        "    return T\n",
        "\n",
        "def fk_poe(q, a, rot, joint_type, M):\n",
        "    T = poe(q, a, rot, joint_type)\n",
        "    trans_mat = T @ M\n",
        "    R = trans_mat[:3,:3]\n",
        "    p = trans_mat[:3, 3]\n",
        "    return trans_mat, R, p\n",
        "\n",
        "if __name__ == \"__main__\":\n",
        "    # Joint angles/positions\n",
        "    t1 = 0\n",
        "    t2 = np.pi/2\n",
        "    t3 = np.pi/2\n",
        "    t4 = np.pi/2\n",
        "    t5 = 0\n",
        "    t6 = 0\n",
        "    t7 = 0\n",
        "\n",
        "    q = [t1, t2, t3, t4, t5, t6, t7]\n",
        "\n",
        "    # Parameters for the robot\n",
        "    L1 = 156.4\n",
        "    L2 = 128.4\n",
        "    L3 = 410\n",
        "    H1 = -5.4\n",
        "    L4 = 208.4\n",
        "    H2 = 6.4\n",
        "    L5 = 105.9\n",
        "    L6 = 105.9\n",
        "    L7 = 61.5\n",
        "\n",
        "    # Updated a, rot, and jt lists\n",
        "    a = np.array([[    0, 0,     0],\n",
        "                  [    0, 0,   L1],\n",
        "                  [    0, H1, L1+L2],\n",
        "                  [0, H1, L1+L2+L3],\n",
        "                  [0, H1+H2, L1+L2+L3+L4],\n",
        "                  [0, H1+H2, L1+L2+L3+L4+L5],\n",
        "                  [0, H1+H2, L1+L2+L3+L4+L5+L6]])\n",
        "\n",
        "    rot = np.array([[0, 0, 0],\n",
        "                    [0, 0, 1],\n",
        "                    [0, 1, 0],\n",
        "                    [0, -1, 0],\n",
        "                    [0, 0, -1],\n",
        "                    [0, -1, 0],\n",
        "                    [0, 0, -1]])\n",
        "\n",
        "    jt = [\"R\", \"R\", \"R\", \"R\", \"R\", \"R\", \"R\"]  # All revolute joints\n",
        "\n",
        "    # Updated M matrix to consider the additional links\n",
        "    M = np.array([[-1, 0, 0, 0],\n",
        "                  [0, -1, 0, H1+H2],\n",
        "                  [0, 0, 1, L1+L2+L3+L4+L5+L6+L7],\n",
        "                  [0, 0, 0, 1]])\n",
        "\n",
        "    ans = fk_poe(q, a, rot, jt, M)\n",
        "\n",
        "    print(ans[0])\n",
        "\n"
      ],
      "metadata": {
        "colab": {
          "base_uri": "https://localhost:8080/"
        },
        "id": "2viEcYfPEz-5",
        "outputId": "cd3a08c9-1f8b-4d1d-aaf2-b89c66515a12"
      },
      "execution_count": null,
      "outputs": [
        {
          "output_type": "stream",
          "name": "stdout",
          "text": [
            "[[ -0.    1.    0.   -1. ]\n",
            " [ -1.   -0.    0.  410. ]\n",
            " [  0.    0.    1.  766.5]\n",
            " [  0.    0.    0.    1. ]]\n"
          ]
        }
      ]
    }
  ]
}